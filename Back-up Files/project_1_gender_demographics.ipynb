# Import dependencies
import os
import pandas as pd

# File to load
csvpath = "Resources\\fatal_police_shootings.csv"

# Read CSV and store into dataframe
Brynn_project_df = pd.read_csv(csvpath)

# Display dataframe
Brynn_project_df

# Total Deaths Calculation
total_deaths = len(Brynn_project_df['name'].value_counts())
display_total_deaths = pd.DataFrame({"Total Fatal Shooting Deaths": total_deaths}, index=[0])
display_total_deaths

# Gender Demographics
# Calculate gender totals and percentages per gender
gender_group = Brynn_project_df[["name", "gender"]]
gender_group = gender_group.drop_duplicates()
gender_count = gender_group["gender"].value_counts()
gender_percent = (gender_count / total_deaths) * 100

# Summary 
gender_demographics = pd.DataFrame({
    "Total Fatal Shooting Deaths": gender_count,
    "Percentage of Deaths": gender_percent})

# Clean/format
gender_demographics["Percentage of Deaths"] = gender_demographics["Percentage of Deaths"].map('{0:,.2f}%'.format)

# Display
gender_demographics



